{
 "cells": [
  {
   "cell_type": "markdown",
   "id": "29e5c911-fa2d-4593-8565-3b7bb127b53d",
   "metadata": {},
   "source": [
    "# LangChain 核心模块 Agent - Self ask with search\n",
    "\n",
    "- Google 搜索对接\n",
    "    - 第三方平台：https://serpapi.com\n",
    "    - LangChain API 封装：`SerpAPIWrapper`\n",
    "- LangChain Agent 模块使用\n",
    "    - Agent 类型：`SELF_ASK_WITH_SEARCH`\n",
    "    - Agent 实例化：`initialize_agent` 方法\n",
    " \n",
    "https://python.langchain.com/docs/modules/agents/agent_types/"
   ]
  },
  {
   "cell_type": "code",
   "execution_count": 4,
   "id": "5d80c360-0737-4c54-8b12-3dd442279be5",
   "metadata": {
    "jupyter": {
     "source_hidden": true
    }
   },
   "outputs": [
    {
     "name": "stdout",
     "output_type": "stream",
     "text": [
      "Defaulting to user installation because normal site-packages is not writeable\n",
      "Collecting google-search-results\n",
      "  Downloading google_search_results-2.4.2.tar.gz (18 kB)\n",
      "  Preparing metadata (setup.py) ... \u001b[?25ldone\n",
      "\u001b[?25hRequirement already satisfied: requests in /home/ubuntu/.local/lib/python3.10/site-packages (from google-search-results) (2.31.0)\n",
      "Requirement already satisfied: charset-normalizer<4,>=2 in /home/ubuntu/.local/lib/python3.10/site-packages (from requests->google-search-results) (3.3.0)\n",
      "Requirement already satisfied: idna<4,>=2.5 in /usr/lib/python3/dist-packages (from requests->google-search-results) (3.3)\n",
      "Requirement already satisfied: urllib3<3,>=1.21.1 in /usr/lib/python3/dist-packages (from requests->google-search-results) (1.26.5)\n",
      "Requirement already satisfied: certifi>=2017.4.17 in /usr/lib/python3/dist-packages (from requests->google-search-results) (2020.6.20)\n",
      "Building wheels for collected packages: google-search-results\n",
      "  Building wheel for google-search-results (setup.py) ... \u001b[?25ldone\n",
      "\u001b[?25h  Created wheel for google-search-results: filename=google_search_results-2.4.2-py3-none-any.whl size=32016 sha256=bf13ca0c46857d929296a089573f74533b9cb967276a133917118639b6f22302\n",
      "  Stored in directory: /home/ubuntu/.cache/pip/wheels/d3/b2/c3/03302d12bb44a2cdff3c9371f31b72c0c4e84b8d2285eeac53\n",
      "Successfully built google-search-results\n",
      "Installing collected packages: google-search-results\n",
      "Successfully installed google-search-results-2.4.2\n",
      "\n",
      "\u001b[1m[\u001b[0m\u001b[34;49mnotice\u001b[0m\u001b[1;39;49m]\u001b[0m\u001b[39;49m A new release of pip is available: \u001b[0m\u001b[31;49m23.3\u001b[0m\u001b[39;49m -> \u001b[0m\u001b[32;49m23.3.1\u001b[0m\n",
      "\u001b[1m[\u001b[0m\u001b[34;49mnotice\u001b[0m\u001b[1;39;49m]\u001b[0m\u001b[39;49m To update, run: \u001b[0m\u001b[32;49m/usr/bin/python3 -m pip install --upgrade pip\u001b[0m\n"
     ]
    }
   ],
   "source": [
    "!pip install google-search-results"
   ]
  },
  {
   "cell_type": "code",
   "execution_count": 1,
   "id": "2866704f-c203-4c97-8221-c2ecadc52b4c",
   "metadata": {},
   "outputs": [],
   "source": [
    "import os\n",
    "\n",
    "os.environ[\"SERPAPI_API_KEY\"] = \"77438ace9f99372dfef96381485db174cc6a93403fbe76248ee9de7ff71140f4\""
   ]
  },
  {
   "cell_type": "code",
   "execution_count": 2,
   "id": "add0b59e-9e30-41a1-9a4e-bacf8aefb3e9",
   "metadata": {},
   "outputs": [],
   "source": [
    "from langchain import OpenAI, SerpAPIWrapper\n",
    "from langchain.agents import initialize_agent, AgentType, Tool\n",
    "\n",
    "llm = OpenAI(temperature=0)"
   ]
  },
  {
   "cell_type": "code",
   "execution_count": 5,
   "id": "7047f1b0-a29c-497e-badc-d02fbcbf4082",
   "metadata": {},
   "outputs": [],
   "source": [
    "search = SerpAPIWrapper()\n",
    "tools = [\n",
    "    Tool(\n",
    "        name=\"Intermediate Answer\",\n",
    "        func=search.run,\n",
    "        description=\"useful for when you need to ask with search\",\n",
    "    )\n",
    "]"
   ]
  },
  {
   "cell_type": "code",
   "execution_count": 6,
   "id": "08a5daa3-fc7a-4ce9-aa46-ad4a6d31be74",
   "metadata": {},
   "outputs": [
    {
     "name": "stdout",
     "output_type": "stream",
     "text": [
      "\n",
      "\n",
      "\u001b[1m> Entering new AgentExecutor chain...\u001b[0m\n",
      "\u001b[32;1m\u001b[1;3m Yes.\n",
      "Follow up: 什么时候举办的成都大运会？\u001b[0m\n",
      "Intermediate answer: \u001b[36;1m\u001b[1;3mFri, Jul 28, 2023, 8:00 AM – Tue, Aug 8, 2023\u001b[0m\n",
      "\u001b[32;1m\u001b[1;3mFollow up: 成都大运会是第几届大运会？\u001b[0m\n",
      "Intermediate answer: \u001b[36;1m\u001b[1;3m2021年夏季世界大学生运动会（英语：2021 Summer World University Games）简称为2021年成都大运会或成都大运会，是第31届夏季世界大学生运动会，原定于2021年于中国四川省成都市举行，后因2019冠状病毒病疫情等原因二次延期，最终改至2023年7月28日至8月8日举行。\u001b[0m\n",
      "\u001b[32;1m\u001b[1;3mSo the final answer is: 第31届\u001b[0m\n",
      "\n",
      "\u001b[1m> Finished chain.\u001b[0m\n"
     ]
    },
    {
     "data": {
      "text/plain": [
       "'第31届'"
      ]
     },
     "execution_count": 6,
     "metadata": {},
     "output_type": "execute_result"
    }
   ],
   "source": [
    "self_ask_with_search = initialize_agent(\n",
    "    tools, llm, agent=AgentType.SELF_ASK_WITH_SEARCH, verbose=True\n",
    ")\n",
    "self_ask_with_search.run(\n",
    "    \"成都举办的大运会是第几届大运会？\"\n",
    ")"
   ]
  },
  {
   "cell_type": "code",
   "execution_count": 7,
   "id": "647bdb68-bdb3-4c09-a911-d6a4ef64531b",
   "metadata": {},
   "outputs": [
    {
     "name": "stdout",
     "output_type": "stream",
     "text": [
      "\n",
      "\n",
      "\u001b[1m> Entering new AgentExecutor chain...\u001b[0m\n",
      "\u001b[32;1m\u001b[1;3m Yes.\n",
      "Follow up: 什么是2023年大运会？\u001b[0m\n",
      "Intermediate answer: \u001b[36;1m\u001b[1;3m['The 2023 FISU Summer World University Games, officially known as the 2023 Summer Universiade or the XXXII Summer World University Games, and commonly known as Yekaterinburg 2023 or Ekaterinburg 2023, ...', '2023 Summer World University Games (2023年夏季世界大学生运动会) type: Aug 8, 2023 – Aug 19, 2023.', '2023 Summer World University Games (2023年夏季世界大学生运动会) kgmid: /g/11hzkdc1v8.', '2023 Summer World University Games (2023年夏季世界大学生运动会) location: Yekaterinburg.', '2023 Summer World University Games (2023年夏季世界大学生运动会) dates: Aug 8, 2023 – Aug 19, 2023.', '2023 Summer World University Games (2023年夏季世界大学生运动会) main_venue: Ekaterinburg Arena (opening/closing ceremonies).', '2023 Summer World University Games (2023年夏季世界大学生运动会) motto: For You.', '2023 Summer World University Games (2023年夏季世界大学生运动会) opening: 8 August (cancelled).', '2023 Summer World University Games (2023年夏季世界大学生运动会) sport: 18.', '2023年夏季世界大学生运动会（英语：XXXII 2023 Summer World University Games）简称为叶卡捷琳堡大运会，是第32届夏季世界大学生运动会。原定于2023年8月8日至19日在 ...', '2023年冬季世界大学生运动会（英语：2023 FISU Winter World University Games），正式名称为第31届冬季世界大学生运动会，也被称为2023年普莱西德湖大冬会或者2023年世界大冬会，于2023年1月12-22日在美国纽约州埃塞克斯县的普莱西德湖举行，是大学生参与的冬季体育项目世界 ...', '... 亚召开的国际大体联执委会会议上宣布了成都2021年世界大学生运动会新的举办日期：成都2021年世界大学生运动会将于2023年7月28日至8月8日举行.', '成都第31届世界大学生夏季运动会（Chengdu 2021 FISU World University Games），简称“成都大运会”，将于2023年7月28日至8月8日在中国成都举办。', '中新社成都6月25日电据国际大学生体育联合会消息，原定于今年6月在四川成都举行的第31届世界大学生夏季运动会(简称成都大运会)延期到2023年7月28日至8月8日举行。 同时，年龄限制和参赛资格将进行调整，以便符合2021和2022年(延期)参赛资格的学生参加。', '这是继2001年北京、2011年深圳之后，中国大陆第三次举办世界大学生夏季 ... 大运会，成都准备好了！ 【责任编辑:张欣然】. Copyright © 2000 - 2023 ...', '世界大学生夏季运动会，叶卡捷琳堡2023. 2019年7月2日，在国际大学生体育联合会（FISU）执行委员会会议上，决定委托叶卡捷琳堡主办2023年第三十二届世界大学生夏季运动会。 执行委员会的所有23名成员都支持叶卡捷琳堡的申请，叶卡捷琳堡是2023年世界大学生运动会的唯一申请者。 ...', '成都大运会是新冠疫情发生以来我国首个以开放形式举办的大型国际体育综合赛事，承载着党中央、国务院的关怀与重托，同时也备受国内国际社会高度关注，是一次重要的国际性体育赛事和文化盛会，也是促进世界青年大学生交流融合的重要平台。 我想用三句话介绍本届大运会的重要意义。 首先，这是一次来之不易的 ...', '... 2023年7月28日至8月8日在四川成都举行。大运会是面向全球大学生、规模仅次于奥林匹克运动会的世界综合性运动会，是全世界大学生运动员同台竞技的赛场 ...']\u001b[0m\n",
      "\u001b[32;1m\u001b[1;3mFollow up: Where is the 2023 FISU Summer World University Games being held?\u001b[0m\n",
      "Intermediate answer: \u001b[36;1m\u001b[1;3mChengdu\u001b[0m\n",
      "\u001b[32;1m\u001b[1;3mSo the final answer is: Chengdu\u001b[0m\n",
      "\n",
      "\u001b[1m> Finished chain.\u001b[0m\n"
     ]
    },
    {
     "data": {
      "text/plain": [
       "'Chengdu'"
      ]
     },
     "execution_count": 7,
     "metadata": {},
     "output_type": "execute_result"
    }
   ],
   "source": [
    "self_ask_with_search.run(\n",
    "    \"2023年大运会举办地在哪里？\"\n",
    ")"
   ]
  },
  {
   "cell_type": "code",
   "execution_count": 8,
   "id": "ff5ac89a-2eb7-437b-890b-19085dacecc2",
   "metadata": {},
   "outputs": [
    {
     "name": "stdout",
     "output_type": "stream",
     "text": [
      "\n",
      "\n",
      "\u001b[1m> Entering new AgentExecutor chain...\u001b[0m\n",
      "\u001b[32;1m\u001b[1;3m Yes.\n",
      "Follow up: 什么是2023年大运会？\u001b[0m\n",
      "Intermediate answer: \u001b[36;1m\u001b[1;3m['The 2023 FISU Summer World University Games, officially known as the 2023 Summer Universiade or the XXXII Summer World University Games, and commonly known as Yekaterinburg 2023 or Ekaterinburg 2023, ...', '2023 Summer World University Games (2023年夏季世界大学生运动会) type: Aug 8, 2023 – Aug 19, 2023.', '2023 Summer World University Games (2023年夏季世界大学生运动会) kgmid: /g/11hzkdc1v8.', '2023 Summer World University Games (2023年夏季世界大学生运动会) location: Yekaterinburg.', '2023 Summer World University Games (2023年夏季世界大学生运动会) dates: Aug 8, 2023 – Aug 19, 2023.', '2023 Summer World University Games (2023年夏季世界大学生运动会) main_venue: Ekaterinburg Arena (opening/closing ceremonies).', '2023 Summer World University Games (2023年夏季世界大学生运动会) motto: For You.', '2023 Summer World University Games (2023年夏季世界大学生运动会) opening: 8 August (cancelled).', '2023 Summer World University Games (2023年夏季世界大学生运动会) sport: 18.', '2023年夏季世界大学生运动会（英语：XXXII 2023 Summer World University Games）简称为叶卡捷琳堡大运会，是第32届夏季世界大学生运动会。原定于2023年8月8日至19日在 ...', '2023年冬季世界大学生运动会（英语：2023 FISU Winter World University Games），正式名称为第31届冬季世界大学生运动会，也被称为2023年普莱西德湖大冬会或者2023年世界大冬会，于2023年1月12-22日在美国纽约州埃塞克斯县的普莱西德湖举行，是大学生参与的冬季体育项目世界 ...', '... 亚召开的国际大体联执委会会议上宣布了成都2021年世界大学生运动会新的举办日期：成都2021年世界大学生运动会将于2023年7月28日至8月8日举行.', '成都第31届世界大学生夏季运动会（Chengdu 2021 FISU World University Games），简称“成都大运会”，将于2023年7月28日至8月8日在中国成都举办。', '中新社成都6月25日电据国际大学生体育联合会消息，原定于今年6月在四川成都举行的第31届世界大学生夏季运动会(简称成都大运会)延期到2023年7月28日至8月8日举行。 同时，年龄限制和参赛资格将进行调整，以便符合2021和2022年(延期)参赛资格的学生参加。', '这是继2001年北京、2011年深圳之后，中国大陆第三次举办世界大学生夏季 ... 大运会，成都准备好了！ 【责任编辑:张欣然】. Copyright © 2000 - 2023 ...', '世界大学生夏季运动会，叶卡捷琳堡2023. 2019年7月2日，在国际大学生体育联合会（FISU）执行委员会会议上，决定委托叶卡捷琳堡主办2023年第三十二届世界大学生夏季运动会。 执行委员会的所有23名成员都支持叶卡捷琳堡的申请，叶卡捷琳堡是2023年世界大学生运动会的唯一申请者。 ...', '成都大运会是新冠疫情发生以来我国首个以开放形式举办的大型国际体育综合赛事，承载着党中央、国务院的关怀与重托，同时也备受国内国际社会高度关注，是一次重要的国际性体育赛事和文化盛会，也是促进世界青年大学生交流融合的重要平台。 我想用三句话介绍本届大运会的重要意义。 首先，这是一次来之不易的 ...', '... 2023年7月28日至8月8日在四川成都举行。大运会是面向全球大学生、规模仅次于奥林匹克运动会的世界综合性运动会，是全世界大学生运动员同台竞技的赛场 ...']\u001b[0m\n",
      "\u001b[32;1m\u001b[1;3mFollow up: Where is the 2023 FISU Summer World University Games being held?\u001b[0m\n",
      "Intermediate answer: \u001b[36;1m\u001b[1;3mChengdu\u001b[0m\n",
      "\u001b[32;1m\u001b[1;3mSo the final answer is: Chengdu\u001b[0m\n",
      "\n",
      "\u001b[1m> Finished chain.\u001b[0m\n"
     ]
    },
    {
     "data": {
      "text/plain": [
       "'Chengdu'"
      ]
     },
     "execution_count": 8,
     "metadata": {},
     "output_type": "execute_result"
    }
   ],
   "source": [
    "self_ask_with_search.run(\n",
    "    \"2023年大运会举办地在哪里？\"\n",
    ")"
   ]
  },
  {
   "cell_type": "code",
   "execution_count": 9,
   "id": "32021fdf-2597-4dde-a425-13650904671f",
   "metadata": {},
   "outputs": [
    {
     "name": "stdout",
     "output_type": "stream",
     "text": [
      "\n",
      "\n",
      "2023年大运会将在日本东京举办。\n"
     ]
    }
   ],
   "source": [
    "print(llm(\"2023年大运会举办地在哪里？\"))"
   ]
  },
  {
   "cell_type": "code",
   "execution_count": null,
   "id": "882a6931-929a-46db-9dae-b16a5c1d195b",
   "metadata": {},
   "outputs": [],
   "source": []
  },
  {
   "cell_type": "code",
   "execution_count": 11,
   "id": "d98ba940-a6e8-477e-83a9-2e20115ff51d",
   "metadata": {},
   "outputs": [],
   "source": [
    "from langchain.chat_models import ChatOpenAI\n",
    "\n",
    "chat_model = ChatOpenAI(model=\"gpt-4\", temperature=0)"
   ]
  },
  {
   "cell_type": "code",
   "execution_count": 12,
   "id": "25978771-8e69-41f2-b9e8-b287d846e1cd",
   "metadata": {},
   "outputs": [
    {
     "name": "stdout",
     "output_type": "stream",
     "text": [
      "\n",
      "\n",
      "\u001b[1m> Entering new AgentExecutor chain...\u001b[0m\n",
      "\u001b[32;1m\u001b[1;3mYes.\n",
      "Follow up: 成都举办的大运会是哪一年的大运会？\u001b[0m\n",
      "Intermediate answer: \u001b[36;1m\u001b[1;3m2021年夏季世界大学生运动会（英语：2021 Summer World University Games）简称为2021年成都大运会或成都大运会，是第31届夏季世界大学生运动会，原定于2021年于中国四川省成都市举行，后因2019冠状病毒病疫情等原因二次延期，最终改至2023年7月28日至8月8日举行。\u001b[0m\n",
      "\u001b[32;1m\u001b[1;3mSo the final answer is: 第31届\u001b[0m\n",
      "\n",
      "\u001b[1m> Finished chain.\u001b[0m\n"
     ]
    },
    {
     "data": {
      "text/plain": [
       "'第31届'"
      ]
     },
     "execution_count": 12,
     "metadata": {},
     "output_type": "execute_result"
    }
   ],
   "source": [
    "self_ask_with_search_chat = initialize_agent(\n",
    "    tools, chat_model, agent=AgentType.SELF_ASK_WITH_SEARCH, verbose=True\n",
    ")\n",
    "self_ask_with_search_chat.run(\n",
    "    \"成都举办的大运会是第几届大运会？\"\n",
    ")"
   ]
  },
  {
   "cell_type": "code",
   "execution_count": null,
   "id": "387b8a2d-41a2-4bd1-98b1-e81ea8b49fba",
   "metadata": {},
   "outputs": [],
   "source": []
  }
 ],
 "metadata": {
  "kernelspec": {
   "display_name": "Python 3 (ipykernel)",
   "language": "python",
   "name": "python3"
  },
  "language_info": {
   "codemirror_mode": {
    "name": "ipython",
    "version": 3
   },
   "file_extension": ".py",
   "mimetype": "text/x-python",
   "name": "python",
   "nbconvert_exporter": "python",
   "pygments_lexer": "ipython3",
   "version": "3.10.12"
  }
 },
 "nbformat": 4,
 "nbformat_minor": 5
}
