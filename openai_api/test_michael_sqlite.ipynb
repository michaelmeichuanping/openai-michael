{
 "cells": [
  {
   "cell_type": "code",
   "execution_count": 1,
   "id": "e0a743a7-7ab3-4bee-817d-cb972b213784",
   "metadata": {},
   "outputs": [],
   "source": [
    "import sqlite3"
   ]
  },
  {
   "cell_type": "code",
   "execution_count": 2,
   "id": "caf9bee5-595f-4c66-a2d4-650a8265d64a",
   "metadata": {},
   "outputs": [],
   "source": [
    "# chinook.db is in ../data\n",
    "# connect to DB\n",
    "conn = sqlite3.connect(\"data/chinook.db\")"
   ]
  },
  {
   "cell_type": "code",
   "execution_count": 4,
   "id": "f84f8363-76e5-45ba-bd8c-ba4379bbedcd",
   "metadata": {},
   "outputs": [
    {
     "name": "stdout",
     "output_type": "stream",
     "text": [
      "['albums', 'sqlite_sequence', 'artists', 'customers', 'employees', 'genres', 'invoices', 'invoice_items', 'media_types', 'playlists', 'playlist_track', 'tracks', 'sqlite_stat1']\n"
     ]
    }
   ],
   "source": [
    "\"\"\"返回一个包含所有表名的列表\"\"\"\n",
    "table_names = []  # 创建一个空的表名列表\n",
    "\n",
    "# 执行SQL查询，获取数据库中所有表的名字\n",
    "tables = conn.execute(\"SELECT name FROM sqlite_master WHERE type='table';\")\n",
    "\n",
    "# 遍历查询结果，并将每个表名添加到列表中\n",
    "for table in tables.fetchall():\n",
    "  table_names.append(table[0])\n",
    "\n",
    "print(table_names)"
   ]
  },
  {
   "cell_type": "code",
   "execution_count": null,
   "id": "c1516186-3725-4d2b-b954-d2c501b20863",
   "metadata": {},
   "outputs": [],
   "source": []
  }
 ],
 "metadata": {
  "kernelspec": {
   "display_name": "Python 3 (ipykernel)",
   "language": "python",
   "name": "python3"
  },
  "language_info": {
   "codemirror_mode": {
    "name": "ipython",
    "version": 3
   },
   "file_extension": ".py",
   "mimetype": "text/x-python",
   "name": "python",
   "nbconvert_exporter": "python",
   "pygments_lexer": "ipython3",
   "version": "3.10.12"
  }
 },
 "nbformat": 4,
 "nbformat_minor": 5
}
