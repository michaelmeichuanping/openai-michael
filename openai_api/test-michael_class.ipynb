{
 "cells": [
  {
   "cell_type": "code",
   "execution_count": null,
   "id": "aef67eee-065e-468f-8646-728f05c334e2",
   "metadata": {},
   "outputs": [],
   "source": []
  },
  {
   "cell_type": "code",
   "execution_count": null,
   "id": "d5ae73e4-4198-44de-acb1-0c6d00b6e7fa",
   "metadata": {},
   "outputs": [],
   "source": []
  },
  {
   "cell_type": "code",
   "execution_count": null,
   "id": "d8e4153e-8305-4b9c-80a2-6d67d13b870c",
   "metadata": {},
   "outputs": [],
   "source": []
  },
  {
   "cell_type": "code",
   "execution_count": 3,
   "id": "4df55e10-4330-4d0a-82f2-731da2837c6e",
   "metadata": {},
   "outputs": [],
   "source": []
  },
  {
   "cell_type": "code",
   "execution_count": 5,
   "id": "abf37ce0-0aa3-47d0-9efd-c9ce866c3d3b",
   "metadata": {},
   "outputs": [
    {
     "name": "stderr",
     "output_type": "stream",
     "text": [
      "WARNING:root:foo is running\n"
     ]
    },
    {
     "name": "stdout",
     "output_type": "stream",
     "text": [
      "i am foo\n"
     ]
    }
   ],
   "source": [
    "import logging\n",
    "\n",
    "def use_logging(func):\n",
    "    logging.warning(\"%s is running\" % func.__name__)\n",
    "    func()\n",
    "\n",
    "def foo():\n",
    "    print('i am foo')\n",
    "\n",
    "use_logging(foo)\n"
   ]
  },
  {
   "cell_type": "code",
   "execution_count": null,
   "id": "7c4b7984-c55e-4f34-b3a2-1645699cafe3",
   "metadata": {},
   "outputs": [],
   "source": []
  },
  {
   "cell_type": "code",
   "execution_count": null,
   "id": "681b92ab-f4da-4905-b678-e9b9f0c649d9",
   "metadata": {},
   "outputs": [],
   "source": []
  }
 ],
 "metadata": {
  "kernelspec": {
   "display_name": "py-3-11_fine-tune",
   "language": "python",
   "name": "py-3-11_fine-tune"
  },
  "language_info": {
   "codemirror_mode": {
    "name": "ipython",
    "version": 3
   },
   "file_extension": ".py",
   "mimetype": "text/x-python",
   "name": "python",
   "nbconvert_exporter": "python",
   "pygments_lexer": "ipython3",
   "version": "3.11.5"
  }
 },
 "nbformat": 4,
 "nbformat_minor": 5
}
