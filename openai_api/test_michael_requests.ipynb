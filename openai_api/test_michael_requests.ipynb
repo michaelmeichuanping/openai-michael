{
 "cells": [
  {
   "cell_type": "code",
   "execution_count": 1,
   "id": "8e5d46ad-637e-45f0-8c19-1114cd8b1589",
   "metadata": {},
   "outputs": [],
   "source": [
    "import os\n",
    "import openai\n",
    "import requests"
   ]
  },
  {
   "cell_type": "code",
   "execution_count": 2,
   "id": "e4e429ba-492f-4581-b347-a3338759c0cd",
   "metadata": {},
   "outputs": [
    {
     "name": "stdout",
     "output_type": "stream",
     "text": [
      "<Response [200]>\n"
     ]
    }
   ],
   "source": [
    "gpt_model = \"gpt-3.5-turbo\"\n",
    "openai.api_key = os.getenv(\"OPENAI_API_KEY\")\n",
    "gpt_message = [\n",
    "    {\n",
    "        \"role\": \"user\", \n",
    "        \"content\": \"Hello!\"\n",
    "    }\n",
    "]\n",
    "\n",
    "\n",
    "headers = {\n",
    "   \"Content-Type\": \"application/json\",\n",
    "   \"Authorization\": \"Bearer \" + openai.api_key,\n",
    "}\n",
    "\n",
    "json_data = {\"model\": gpt_model, \"messages\": gpt_message}\n",
    "\n",
    "response = requests.post(\n",
    "    \"https://api.openai.com/v1/chat/completions\",\n",
    "    headers=headers,\n",
    "    json=json_data,\n",
    ")\n",
    "\n",
    "\n",
    "\n"
   ]
  },
  {
   "cell_type": "code",
   "execution_count": 6,
   "id": "02f1ca53-32a9-4d66-9c64-69a189d7a65d",
   "metadata": {},
   "outputs": [
    {
     "name": "stdout",
     "output_type": "stream",
     "text": [
      "<Response [200]>\n",
      "b'{\\n  \"id\": \"chatcmpl-8GkXKsSYbywv4kT3xXvpMI5478Znj\",\\n  \"object\": \"chat.completion\",\\n  \"created\": 1699002826,\\n  \"model\": \"gpt-3.5-turbo-0613\",\\n  \"choices\": [\\n    {\\n      \"index\": 0,\\n      \"message\": {\\n        \"role\": \"assistant\",\\n        \"content\": \"Hello! How can I assist you today?\"\\n      },\\n      \"finish_reason\": \"stop\"\\n    }\\n  ],\\n  \"usage\": {\\n    \"prompt_tokens\": 9,\\n    \"completion_tokens\": 9,\\n    \"total_tokens\": 18\\n  }\\n}\\n'\n"
     ]
    },
    {
     "data": {
      "text/plain": [
       "requests.models.Response"
      ]
     },
     "execution_count": 6,
     "metadata": {},
     "output_type": "execute_result"
    }
   ],
   "source": [
    "print(response)\n",
    "print(response.content)\n",
    "type(response)"
   ]
  },
  {
   "cell_type": "code",
   "execution_count": 5,
   "id": "39fc0b20-dd9c-49c3-af41-81c1d03a9853",
   "metadata": {},
   "outputs": [
    {
     "name": "stdout",
     "output_type": "stream",
     "text": [
      "Hello! How can I assist you today?\n"
     ]
    }
   ],
   "source": [
    "assistant_message = response.json()[\"choices\"][0][\"message\"][\"content\"]\n",
    "print(assistant_message)"
   ]
  },
  {
   "cell_type": "code",
   "execution_count": null,
   "id": "798b1f5f-171f-4a9c-aaac-4e6fcc2152d0",
   "metadata": {},
   "outputs": [],
   "source": []
  }
 ],
 "metadata": {
  "kernelspec": {
   "display_name": "Python 3 (ipykernel)",
   "language": "python",
   "name": "python3"
  },
  "language_info": {
   "codemirror_mode": {
    "name": "ipython",
    "version": 3
   },
   "file_extension": ".py",
   "mimetype": "text/x-python",
   "name": "python",
   "nbconvert_exporter": "python",
   "pygments_lexer": "ipython3",
   "version": "3.10.12"
  }
 },
 "nbformat": 4,
 "nbformat_minor": 5
}
